{
 "cells": [
  {
   "cell_type": "code",
   "execution_count": null,
   "metadata": {},
   "outputs": [],
   "source": [
    "import os\n",
    "import pandas as pd\n",
    "import numpy as np\n",
    "import matplotlib.pyplot as plt\n",
    "\n",
    "# Set up the directories\n",
    "current_dir = os.getcwd()\n",
    "code_dir = os.path.dirname(current_dir)\n",
    "project_dir = os.path.dirname(code_dir)\n",
    "data_dir = os.path.join(project_dir, 'data')\n",
    "raw_data_dir = os.path.join(data_dir, 'raw_data')\n",
    "ad_hoc_data_dir = os.path.join(data_dir, 'ad_hoc_data')\n",
    "processed_data_dir = os.path.join(data_dir, 'processed_data')\n",
    "\n",
    "# LOAD THE DATA\n",
    "\n",
    "file_path = os.path.join(ad_hoc_data_dir, 'food_items.xlsx')\n",
    "food_items = pd.read_excel(file_path, index_col=2)\n",
    "\n",
    "file_path = os.path.join(raw_data_dir, 'Cambodia list 18102023.xlsx')\n",
    "cambodia_list = pd.read_excel(file_path, sheet_name='1.FNG list + EI ', index_col=0)\n",
    "\n",
    "# CLEAN THE DATA\n",
    "\n",
    "# take only the columns 'ENHANCE_ID' and 'fbs_item'\n",
    "cambodia_list = cambodia_list[['ENHANCE_ID', 'fbs_item', 'Extraction rate']]\n",
    "# Merge cambodia_list to food_items by index (only keep the rows that are in food_items)\n",
    "food_items_match = pd.merge(food_items, cambodia_list, left_index=True, right_index=True, how='left')\n",
    "# Set name 'Food names' for the index\n",
    "food_items_match.index.name = 'Food names'\n",
    "# Delete index by considering it as a column\n",
    "food_items_match.reset_index(inplace=True)\n",
    "\n",
    "# SAVE THE DATA\n",
    "\n",
    "# Save the data into a new excel file\n",
    "file_path = os.path.join(ad_hoc_data_dir, 'food_items_match.xlsx')\n",
    "food_items_match.to_excel(file_path, index=False, sheet_name='food_items_match')"
   ]
  }
 ],
 "metadata": {
  "kernelspec": {
   "display_name": "Python 3",
   "language": "python",
   "name": "python3"
  },
  "language_info": {
   "codemirror_mode": {
    "name": "ipython",
    "version": 3
   },
   "file_extension": ".py",
   "mimetype": "text/x-python",
   "name": "python",
   "nbconvert_exporter": "python",
   "pygments_lexer": "ipython3",
   "version": "3.12.2"
  }
 },
 "nbformat": 4,
 "nbformat_minor": 2
}
