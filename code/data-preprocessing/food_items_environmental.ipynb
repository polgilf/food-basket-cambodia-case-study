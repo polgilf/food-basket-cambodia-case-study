{
 "cells": [
  {
   "cell_type": "code",
   "execution_count": 14,
   "metadata": {},
   "outputs": [],
   "source": [
    "import os\n",
    "import pandas as pd\n",
    "import numpy as np\n",
    "\n",
    "# Set up the directories\n",
    "current_dir = os.getcwd()\n",
    "code_dir = os.path.dirname(current_dir)\n",
    "project_dir = os.path.dirname(code_dir)\n",
    "data_dir = os.path.join(project_dir, 'data')\n",
    "raw_data_dir = os.path.join(data_dir, 'raw_data')\n",
    "ad_hoc_data_dir = os.path.join(data_dir, 'ad_hoc_data')\n",
    "processed_data_dir = os.path.join(data_dir, 'processed_data')\n",
    "\n",
    "# LOAD THE DATA\n",
    "\n",
    "# Index are ENHANCE_ID\n",
    "# Food items match\n",
    "file_path = os.path.join(ad_hoc_data_dir, 'food_items_match.xlsx')\n",
    "food_items_match = pd.read_excel(file_path, index_col=4)\n",
    "food_items_match = food_items_match.drop(columns=['Food group','fbs_item'])\n",
    "\n",
    "# Food items environmental data\n",
    "file_path = os.path.join(raw_data_dir, 'Cambodia list 18102023.xlsx')\n",
    "cambodia_list_env = pd.read_excel(file_path, sheet_name='1.FNG list + EI ', index_col=1)\n",
    "cambodia_list_env = cambodia_list_env[['kg_co2e_total','l_blue_green_wf','kg_co2e_total_extrapplied','l_blue_green_wf_extrapplied']]\n",
    "\n",
    "# PROCESS THE DATA\n",
    "\n",
    "# Merge \n",
    "food_items_environmental = pd.merge(food_items_match, cambodia_list_env, left_index=True, right_index=True, how='left')\n",
    "# Index as column\n",
    "food_items_environmental.reset_index(inplace=True)\n",
    "# Resort the first three columns to have 'ENHANCE_ID', 'food_id', 'group_id', 'Food names' at the beginning in this order\n",
    "food_items_environmental = food_items_environmental[['ENHANCE_ID', 'food_id', 'group_id', 'Food names'] + [col for col in food_items_environmental.columns if col not in ['ENHANCE_ID', 'food_id', 'group_id', 'Food names']]]\n",
    "\n",
    "# SAVE THE DATA\n",
    "file_path = os.path.join(processed_data_dir, 'food_environmental.xlsx')\n",
    "\n",
    "with pd.ExcelWriter(file_path, engine='xlsxwriter') as writer:\n",
    "    food_items_environmental.to_excel(writer, sheet_name='food_environmental', index=False)\n",
    "    worksheet = writer.sheets['food_environmental']\n",
    "    for idx, col in enumerate(food_items_environmental.columns):\n",
    "        max_len = max(food_items_environmental[col].astype(str).map(len).max(), len(col))\n",
    "        worksheet.set_column(idx, idx, max_len)"
   ]
  }
 ],
 "metadata": {
  "kernelspec": {
   "display_name": "Python 3",
   "language": "python",
   "name": "python3"
  },
  "language_info": {
   "codemirror_mode": {
    "name": "ipython",
    "version": 3
   },
   "file_extension": ".py",
   "mimetype": "text/x-python",
   "name": "python",
   "nbconvert_exporter": "python",
   "pygments_lexer": "ipython3",
   "version": "3.12.2"
  }
 },
 "nbformat": 4,
 "nbformat_minor": 2
}
